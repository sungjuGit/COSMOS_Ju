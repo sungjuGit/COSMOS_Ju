{
  "cells": [
    {
      "cell_type": "markdown",
      "metadata": {
        "id": "view-in-github",
        "colab_type": "text"
      },
      "source": [
        "<a href=\"https://colab.research.google.com/github/sungjuGit/COSMOS_Ju/blob/main/AutoDiff_rev3.ipynb\" target=\"_parent\"><img src=\"https://colab.research.google.com/assets/colab-badge.svg\" alt=\"Open In Colab\"/></a>"
      ]
    },
    {
      "cell_type": "markdown",
      "metadata": {
        "id": "31K_zQHzM9uG"
      },
      "source": [
        "# Autodiff:  Calculus  from another angle"
      ]
    },
    {
      "cell_type": "markdown",
      "metadata": {
        "id": "95oWCRNmSZGX"
      },
      "source": [
        "## Dual Number Notation\n",
        "\n",
        "Instead of D(a,b) we can write a + b ϵ, where ϵ satisfies ϵ^2=0.  (Some people like to recall imaginary numbers where an i is introduced with i^2=-1.)\n",
        "\n",
        "Others like to think of how engineers just drop the O(ϵ^2) terms.\n",
        "\n",
        "The four rules are\n",
        "\n",
        "$ (a+b\\epsilon) \\pm (c+d\\epsilon) = (a \\pm c) +  (b \\pm d)\\epsilon$\n",
        "\n",
        "$ (a+b\\epsilon) * (c+d\\epsilon) = (ac) + (bc+ad)\\epsilon$\n",
        "\n",
        "$ (a+b\\epsilon) / (c+d\\epsilon) = (a/c) + (bc-ad)/c^2 \\epsilon $\n"
      ]
    },
    {
      "cell_type": "code",
      "execution_count": 1,
      "metadata": {
        "id": "Zp8fSFraSZGX"
      },
      "outputs": [],
      "source": [
        "struct D <: Number  # D is a function-derivative pair\n",
        "    α::Float64\n",
        "    β::Float64\n",
        "end"
      ]
    },
    {
      "cell_type": "code",
      "execution_count": 2,
      "metadata": {
        "id": "eSfC9RmlSZGX"
      },
      "outputs": [],
      "source": [
        "import Base: +, -, *, /, >, convert, promote_rule\n",
        "+(x::D, y::D) = D(x.α + y.α, x.β + y.β)\n",
        "-(x::D, y:: D) = D(x.α - y.α, x.β - y.β)\n",
        "*(x::D, y::D) = D(x.α*y.α, (x.β*y.α + x.α*y.β))\n",
        "/(x::D, y::D) = D(x.α/y.α, (y.α*x.β - x.α*y.β)/y.α^2)\n",
        ">(x::D, y::D) = x.α > y.α\n",
        "convert(::Type{D}, x::Real) = D(x,zero(x))\n",
        "promote_rule(::Type{D}, ::Type{<:Number}) = D\n",
        "\n",
        "Base.show(io::IO,x::D) = print(io,x.α,\" + \",x.β,\" ϵ\")"
      ]
    },
    {
      "cell_type": "code",
      "execution_count": 3,
      "metadata": {
        "colab": {
          "base_uri": "https://localhost:8080/"
        },
        "id": "hHLzgZYYM9uM",
        "outputId": "7d721735-dc61-4e8f-d931-3b5f44ce6b96"
      },
      "outputs": [
        {
          "output_type": "execute_result",
          "data": {
            "text/plain": [
              "1.0 + 0.0 ϵ"
            ]
          },
          "metadata": {},
          "execution_count": 3
        }
      ],
      "source": [
        "D(1,0)"
      ]
    },
    {
      "cell_type": "code",
      "execution_count": 4,
      "metadata": {
        "colab": {
          "base_uri": "https://localhost:8080/"
        },
        "id": "6pzTi4AIM9uM",
        "outputId": "27e38e16-979b-42c3-afe6-9af475bde590"
      },
      "outputs": [
        {
          "output_type": "execute_result",
          "data": {
            "text/plain": [
              "4.0 + 4.0 ϵ"
            ]
          },
          "metadata": {},
          "execution_count": 4
        }
      ],
      "source": [
        "D(2,1) ^2"
      ]
    },
    {
      "cell_type": "code",
      "execution_count": 5,
      "metadata": {
        "colab": {
          "base_uri": "https://localhost:8080/"
        },
        "id": "GHn_ZdiyM9uM",
        "outputId": "4137c968-fbea-46d6-b28a-cdfbe7677cae"
      },
      "outputs": [
        {
          "output_type": "execute_result",
          "data": {
            "text/plain": [
              "0.0 + 1.0 ϵ"
            ]
          },
          "metadata": {},
          "execution_count": 5
        }
      ],
      "source": [
        "ϵ = D(0,1)\n"
      ]
    },
    {
      "cell_type": "code",
      "execution_count": 6,
      "metadata": {
        "colab": {
          "base_uri": "https://localhost:8080/"
        },
        "id": "0q8iv9XgM9uN",
        "outputId": "4f3b1829-e413-4685-febf-962bdfe6785e"
      },
      "outputs": [
        {
          "output_type": "execute_result",
          "data": {
            "text/plain": [
              "0.0 + 0.0 ϵ"
            ]
          },
          "metadata": {},
          "execution_count": 6
        }
      ],
      "source": [
        "ϵ * ϵ"
      ]
    },
    {
      "cell_type": "code",
      "execution_count": 7,
      "metadata": {
        "colab": {
          "base_uri": "https://localhost:8080/"
        },
        "id": "J9b2wgfgM9uN",
        "outputId": "155b9a37-18f3-4016-efe8-5e5cec402fc4"
      },
      "outputs": [
        {
          "output_type": "execute_result",
          "data": {
            "text/plain": [
              "0.0 + 0.0 ϵ"
            ]
          },
          "metadata": {},
          "execution_count": 7
        }
      ],
      "source": [
        "ϵ^2\n"
      ]
    },
    {
      "cell_type": "code",
      "execution_count": 8,
      "metadata": {
        "colab": {
          "base_uri": "https://localhost:8080/"
        },
        "id": "1AqV-DsGM9uN",
        "outputId": "1cb7093b-ca01-4fdf-a0c8-0b8bb3639f35"
      },
      "outputs": [
        {
          "output_type": "execute_result",
          "data": {
            "text/plain": [
              "1.0 + -1.0 ϵ"
            ]
          },
          "metadata": {},
          "execution_count": 8
        }
      ],
      "source": [
        "1/(1+ϵ)  # Exact power series:  1-ϵ+ϵ²-ϵ³-..."
      ]
    },
    {
      "cell_type": "code",
      "execution_count": 9,
      "metadata": {
        "colab": {
          "base_uri": "https://localhost:8080/"
        },
        "id": "iuDDruHHM9uN",
        "outputId": "b5da17a6-f390-4d51-a110-fb132c59b835"
      },
      "outputs": [
        {
          "output_type": "execute_result",
          "data": {
            "text/plain": [
              "1.0 + 5.0 ϵ"
            ]
          },
          "metadata": {},
          "execution_count": 9
        }
      ],
      "source": [
        "(1+ϵ)^5  ## Note this just works (we didn't train powers)!!"
      ]
    },
    {
      "cell_type": "code",
      "execution_count": 10,
      "metadata": {
        "colab": {
          "base_uri": "https://localhost:8080/"
        },
        "id": "QrLR7hdoM9uN",
        "outputId": "fdc4830c-0a6d-4284-f43d-872983e0b74e"
      },
      "outputs": [
        {
          "output_type": "execute_result",
          "data": {
            "text/plain": [
              "1.0 + -1.0 ϵ"
            ]
          },
          "metadata": {},
          "execution_count": 10
        }
      ],
      "source": [
        "(1+ϵ)^(-1)"
      ]
    },
    {
      "cell_type": "markdown",
      "metadata": {
        "id": "ubsCoV22SZGY"
      },
      "source": [
        "## ...and now the derivative of an arbitrary function defined as a computer code algorithm, almost by magic"
      ]
    },
    {
      "cell_type": "markdown",
      "metadata": {
        "id": "12QHqlQASZGY"
      },
      "source": [
        "We would like to use a simple example, computation of sqrt(x), where  how autodiff works came as both a mathematical surprise, and a computing wonder.  The example is the Babylonian algorithm, known to man for millenia, to compute sqrt(x):  \n",
        "\n",
        "\n",
        " > Repeat $ t \\leftarrow  (t+x/t) / 2 $ until $t$ converges to $\\sqrt{x}$.\n",
        "\n",
        " Each iteration has one add and two divides. For illustration purposes, 10 iterations suffice."
      ]
    },
    {
      "cell_type": "code",
      "execution_count": 11,
      "metadata": {
        "id": "zwYFc91qSZGY",
        "outputId": "0ff03af7-fe72-4677-d217-1754beb90edf",
        "colab": {
          "base_uri": "https://localhost:8080/"
        }
      },
      "outputs": [
        {
          "output_type": "execute_result",
          "data": {
            "text/plain": [
              "Babylonian (generic function with 1 method)"
            ]
          },
          "metadata": {},
          "execution_count": 11
        }
      ],
      "source": [
        "function Babylonian(x; N = 10)\n",
        "    t = (1+x)/2\n",
        "    for i = 2:N; t=(t + x/t)/2  end\n",
        "    t\n",
        "end"
      ]
    },
    {
      "cell_type": "code",
      "execution_count": 12,
      "metadata": {
        "id": "JnO2z51eSZGY",
        "outputId": "1e0c8d02-3c34-42a6-d30f-a48b7fde9b3b",
        "colab": {
          "base_uri": "https://localhost:8080/"
        }
      },
      "outputs": [
        {
          "output_type": "execute_result",
          "data": {
            "text/plain": [
              "(1.414213562373095, 1.4142135623730951)"
            ]
          },
          "metadata": {},
          "execution_count": 12
        }
      ],
      "source": [
        "x=2;\n",
        "\n",
        "Babylonian(x),√x  # Type \\sqrt+<tab> to get the symbol"
      ]
    },
    {
      "cell_type": "code",
      "execution_count": 13,
      "metadata": {
        "id": "7Bap1X82SZGZ",
        "outputId": "c4037d84-2b6e-40ca-ad0f-567f1b81cc22",
        "colab": {
          "base_uri": "https://localhost:8080/"
        }
      },
      "outputs": [
        {
          "output_type": "execute_result",
          "data": {
            "text/plain": [
              "(7.0 + 0.07142857142857142 ϵ, (7.0, 0.07142857142857142))"
            ]
          },
          "metadata": {},
          "execution_count": 13
        }
      ],
      "source": [
        "x=49; Babylonian(D(x,1)), (√x,.5/√x)"
      ]
    }
  ],
  "metadata": {
    "@webio": {
      "lastCommId": null,
      "lastKernelId": null
    },
    "colab": {
      "provenance": [],
      "include_colab_link": true
    },
    "kernelspec": {
      "display_name": "Julia",
      "name": "julia"
    },
    "language_info": {
      "name": "julia"
    }
  },
  "nbformat": 4,
  "nbformat_minor": 0
}